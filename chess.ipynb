{
 "cells": [
  {
   "cell_type": "code",
   "execution_count": 1,
   "id": "b5631bd2",
   "metadata": {},
   "outputs": [],
   "source": [
    "import numpy as np\n",
    "import tensorflow as tf\n",
    "from tensorflow import keras\n",
    "import chess\n",
    "import chess.pgn"
   ]
  },
  {
   "cell_type": "code",
   "execution_count": 2,
   "id": "4fbeb9e7-50ce-4585-a406-b8691f04a763",
   "metadata": {},
   "outputs": [],
   "source": [
    "# Function to parse PGN file and load games\n",
    "def parse_pgn(file_path):\n",
    "    with open(file_path, 'r') as pgn_file:\n",
    "        games = []\n",
    "        while True:\n",
    "            game = chess.pgn.read_game(pgn_file)\n",
    "            if game is None:\n",
    "                break\n",
    "            games.append(game)\n",
    "    return games\n"
   ]
  },
  {
   "cell_type": "code",
   "execution_count": 3,
   "id": "8ab78d9f-ed05-40b9-8cb3-79533e5f8ece",
   "metadata": {},
   "outputs": [],
   "source": [
    "# Function to extract features and labels from games\n",
    "def extract_features_and_labels(games):\n",
    "    X = []\n",
    "    y = []\n",
    "    for game in games:\n",
    "        board = game.board()\n",
    "        for move in game.mainline_moves():\n",
    "            X.append(board_to_features(board))\n",
    "            y.append(move_to_index(move))\n",
    "            board.push(move)\n",
    "    return np.array(X), np.array(y)"
   ]
  },
  {
   "cell_type": "code",
   "execution_count": 4,
   "id": "39f5df9b-c0b3-4a21-9528-da33619e222e",
   "metadata": {},
   "outputs": [],
   "source": [
    "# Function to convert a board to input features\n",
    "def board_to_features(board):\n",
    "    features = np.zeros((64, 12), dtype=np.float32)\n",
    "    piece_map = board.piece_map()\n",
    "    for square, piece in piece_map.items():\n",
    "        piece_type = piece.piece_type - 1  # piece_type is 1-6, make it 0-5\n",
    "        color_offset = 6 if piece.color == chess.BLACK else 0\n",
    "        features[square][piece_type + color_offset] = 1\n",
    "    return features.flatten()\n"
   ]
  },
  {
   "cell_type": "code",
   "execution_count": 5,
   "id": "c65ac159-00d6-406b-8e5d-f9c9d1e55dc7",
   "metadata": {},
   "outputs": [],
   "source": [
    "# Function to convert a move to an index\n",
    "def move_to_index(move):\n",
    "    return move.from_square * 64 + move.to_square\n"
   ]
  },
  {
   "cell_type": "code",
   "execution_count": 6,
   "id": "30522426-076f-4991-9d55-7826abd12dca",
   "metadata": {},
   "outputs": [],
   "source": [
    "# Function to convert a move to an index\n",
    "def move_to_index(move):\n",
    "    return move.from_square * 64 + move.to_square\n",
    "\n",
    "games = parse_pgn('Adams.pgn')  # Update with the correct path\n",
    "\n",
    "X, y = extract_features_and_labels(games)\n",
    "\n",
    "y = keras.utils.to_categorical(y, num_classes=4096)"
   ]
  },
  {
   "cell_type": "code",
   "execution_count": null,
   "id": "b83fa43c-5bba-4aeb-937f-635688046cd9",
   "metadata": {},
   "outputs": [],
   "source": [
    "# Build a simple model\n",
    "model = keras.Sequential([\n",
    "    keras.layers.Dense(128, activation='relu', input_shape=(768,)),  # Updated input shape\n",
    "    keras.layers.Dense(128, activation='relu'),\n",
    "    keras.layers.Dense(4096, activation='softmax')\n",
    "])\n"
   ]
  },
  {
   "cell_type": "code",
   "execution_count": null,
   "id": "683c33c6-b08a-44cd-91e8-8cd96f825358",
   "metadata": {},
   "outputs": [],
   "source": [
    "# Compile the model\n",
    "model.compile(optimizer='adam', loss='categorical_crossentropy', metrics=['accuracy'])\n",
    "\n",
    "# Reshape X to fit the model\n",
    "X = X.reshape((-1, 768))\n",
    "\n",
    "# Train the model\n",
    "model.fit(X, y, epochs=1, batch_size=64, validation_split=0.1)\n",
    "\n",
    "# Save the model\n",
    "model.save(\"chess_model.h5\")\n"
   ]
  },
  {
   "cell_type": "code",
   "execution_count": 9,
   "id": "f657c722-2cfa-4abf-ba2d-ac5f416a82dd",
   "metadata": {},
   "outputs": [],
   "source": [
    "# Predict the next move\n",
    "def predict_move(board):\n",
    "    features = board_to_features(board).reshape(1, 768)  # Reshape to match model input shape\n",
    "    prediction = model.predict(features)\n",
    "    \n",
    "    move_index = np.argmax(prediction)\n",
    "    from_square = move_index // 64\n",
    "    to_square = move_index % 64\n",
    "    \n",
    "    move = chess.Move(from_square, to_square)\n",
    "    \n",
    "    if move in board.legal_moves:\n",
    "        return move\n",
    "    else:\n",
    "        return list(board.legal_moves)[0]\n"
   ]
  },
  {
   "cell_type": "code",
   "execution_count": null,
   "id": "0ccdc232-2d34-41ab-a32e-c040fd44d2bd",
   "metadata": {},
   "outputs": [
    {
     "name": "stderr",
     "output_type": "stream",
     "text": [
      "WARNING:absl:Compiled the loaded model, but the compiled metrics have yet to be built. `model.compile_metrics` will be empty until you train or evaluate the model.\n"
     ]
    },
    {
     "name": "stdout",
     "output_type": "stream",
     "text": [
      "Starting a new game!\n",
      "r n b q k b n r\n",
      "p p p p p p p p\n",
      ". . . . . . . .\n",
      ". . . . . . . .\n",
      ". . . . . . . .\n",
      ". . . . . . . .\n",
      "P P P P P P P P\n",
      "R N B Q K B N R\n"
     ]
    },
    {
     "name": "stdout",
     "output_type": "stream",
     "text": [
      "Enter your move (in UCI format, e.g., e2e4):  e2e4\n"
     ]
    },
    {
     "name": "stdout",
     "output_type": "stream",
     "text": [
      "\n",
      "User's move:\n",
      "r n b q k b n r\n",
      "p p p p p p p p\n",
      ". . . . . . . .\n",
      ". . . . . . . .\n",
      ". . . . P . . .\n",
      ". . . . . . . .\n",
      "P P P P . P P P\n",
      "R N B Q K B N R\n",
      "\u001b[1m1/1\u001b[0m \u001b[32m━━━━━━━━━━━━━━━━━━━━\u001b[0m\u001b[37m\u001b[0m \u001b[1m0s\u001b[0m 38ms/step\n",
      "\n",
      "Bot's move:\n",
      "r n b q k b n r\n",
      "p p p p . p p p\n",
      ". . . . . . . .\n",
      ". . . . p . . .\n",
      ". . . . P . . .\n",
      ". . . . . . . .\n",
      "P P P P . P P P\n",
      "R N B Q K B N R\n"
     ]
    }
   ],
   "source": [
    "# Interactive play function\n",
    "def play():\n",
    "    board = chess.Board()\n",
    "    print(\"Starting a new game!\")\n",
    "    print(board)\n",
    "    \n",
    "    model = keras.models.load_model(\"chess_model.h5\")\n",
    "\n",
    "    while not board.is_game_over():\n",
    "        user_move = input(\"Enter your move (in UCI format, e.g., e2e4): \")\n",
    "        \n",
    "        try:\n",
    "            board.push_uci(user_move)\n",
    "        except ValueError:\n",
    "            print(\"Invalid move, please try again.\")\n",
    "            continue\n",
    "        \n",
    "        print(\"\\nUser's move:\")\n",
    "        print(board)\n",
    "        \n",
    "        if board.is_game_over():\n",
    "            break\n",
    "        \n",
    "        bot_move = predict_move(board)\n",
    "        board.push(bot_move)\n",
    "        \n",
    "        print(\"\\nBot's move:\")\n",
    "        print(board)\n",
    "        \n",
    "    print(\"Game over!\")\n",
    "\n",
    "if __name__ == \"__main__\":\n",
    "    play()\n"
   ]
  },
  {
   "cell_type": "code",
   "execution_count": null,
   "id": "85f690eb-7006-4fd9-91c7-ed6d03c51c33",
   "metadata": {},
   "outputs": [],
   "source": []
  }
 ],
 "metadata": {
  "kernelspec": {
   "display_name": "Python 3 (ipykernel)",
   "language": "python",
   "name": "python3"
  },
  "language_info": {
   "codemirror_mode": {
    "name": "ipython",
    "version": 3
   },
   "file_extension": ".py",
   "mimetype": "text/x-python",
   "name": "python",
   "nbconvert_exporter": "python",
   "pygments_lexer": "ipython3",
   "version": "3.12.3"
  }
 },
 "nbformat": 4,
 "nbformat_minor": 5
}
